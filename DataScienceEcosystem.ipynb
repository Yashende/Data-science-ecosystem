{
 "cells": [
  {
   "cell_type": "markdown",
   "id": "585b76f9-b201-4494-ba0f-6a433fb60eb4",
   "metadata": {},
   "source": [
    "# Data Science Tools and Ecosystem"
   ]
  },
  {
   "cell_type": "markdown",
   "id": "04b1381c-4c88-4ab3-a0e8-7035db92fe09",
   "metadata": {},
   "source": [
    "In this notebook, Data Science Tools and Ecosystem are summarized."
   ]
  },
  {
   "cell_type": "markdown",
   "id": "b1ff0151-17a9-49ff-b5cf-dd49c6367bc8",
   "metadata": {},
   "source": [
    "Some of the popular languages that Data Scientists use are:\n",
    "1. Python\n",
    "2. SQL\n",
    "3. R\n",
    "4. Java\n",
    "5. C++, etc."
   ]
  },
  {
   "cell_type": "markdown",
   "id": "a1007424-5278-41e4-9290-d3f38befd853",
   "metadata": {},
   "source": [
    "Some of the commonly used libraries used by Data Scientists are:\n",
    "1. TensorFlow.\n",
    "2. Numpy.\n",
    "3. Pandas.\n",
    "4. Matplotlib.\n",
    "5. Keras\n",
    "6. PyTorch, etc."
   ]
  },
  {
   "cell_type": "markdown",
   "id": "fff7ad30-745f-4f44-823d-afe5c5b0f8f8",
   "metadata": {},
   "source": [
    "|Data Science Tools|\n",
    "|---|\n",
    "|SAS|\n",
    "|Hadoop|\n",
    "|TensorFlow|\n"
   ]
  },
  {
   "cell_type": "markdown",
   "id": "141b6042-6db2-4e63-b5b9-e93bc8b3f61d",
   "metadata": {},
   "source": [
    "### Below are a few examples of evaluating arithmetic expressions in Python."
   ]
  },
  {
   "cell_type": "code",
   "execution_count": 6,
   "id": "a95b8565-bdb7-42b2-a4b7-24fc5868639d",
   "metadata": {},
   "outputs": [
    {
     "data": {
      "text/plain": [
       "17"
      ]
     },
     "execution_count": 6,
     "metadata": {},
     "output_type": "execute_result"
    }
   ],
   "source": [
    "# This a simple arithmetic expression to multiply then add integers.\n",
    "(3*4)+5"
   ]
  },
  {
   "cell_type": "code",
   "execution_count": 7,
   "id": "e8ddf05f-ba1e-41d0-9493-8dfde4db3e84",
   "metadata": {},
   "outputs": [
    {
     "data": {
      "text/plain": [
       "3.3333333333333335"
      ]
     },
     "execution_count": 7,
     "metadata": {},
     "output_type": "execute_result"
    }
   ],
   "source": [
    "# This will convert 200 minutes to hours by dividing by 60.\n",
    "200/60"
   ]
  },
  {
   "cell_type": "markdown",
   "id": "bc6b6a1f-2fa0-46b8-85f3-b6450d26778d",
   "metadata": {},
   "source": [
    "__Objectives:__\n",
    " - List popular languages for Data Science\n",
    " - List popular libraries for Data Science\n",
    " - List popular tools for Data Science\n",
    "   \n",
    "\n",
    "\n"
   ]
  },
  {
   "cell_type": "markdown",
   "id": "8d841dfc-7a92-4fdb-8cb5-a2bb9f55a6b6",
   "metadata": {},
   "source": [
    "## Author\n",
    "Yash Shende"
   ]
  }
 ],
 "metadata": {
  "kernelspec": {
   "display_name": "Python 3 (ipykernel)",
   "language": "python",
   "name": "python3"
  },
  "language_info": {
   "codemirror_mode": {
    "name": "ipython",
    "version": 3
   },
   "file_extension": ".py",
   "mimetype": "text/x-python",
   "name": "python",
   "nbconvert_exporter": "python",
   "pygments_lexer": "ipython3",
   "version": "3.12.1"
  }
 },
 "nbformat": 4,
 "nbformat_minor": 5
}
